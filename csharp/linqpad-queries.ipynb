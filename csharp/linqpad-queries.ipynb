{
 "cells": [
  {
   "cell_type": "code",
   "execution_count": 2,
   "metadata": {
    "dotnet_interactive": {
     "language": "csharp"
    },
    "polyglot_notebook": {
     "kernelName": "csharp"
    },
    "vscode": {
     "languageId": "polyglot-notebook"
    }
   },
   "outputs": [
    {
     "name": "stdout",
     "output_type": "stream",
     "text": [
      "Test 11/9/2023 9:53:40 AM\n",
      "Test 11/9/2023 9:53:41 AM\n",
      "Test 11/9/2023 9:53:42 AM\n"
     ]
    },
    {
     "ename": "Error",
     "evalue": "Command cancelled.",
     "output_type": "error",
     "traceback": [
      "Command cancelled."
     ]
    }
   ],
   "source": [
    "public class ExecutionPlan : IDisposable\n",
    "{\n",
    "    private System.Timers.Timer planTimer;\n",
    "    private Action<ExecutionPlan> planAction;\n",
    "    bool isRepeatedPlan;\n",
    "\n",
    "    private ExecutionPlan(int millisecondsDelay, Action<ExecutionPlan> planAction, bool isRepeatedPlan)\n",
    "    {\n",
    "        planTimer = new System.Timers.Timer(millisecondsDelay);\n",
    "        planTimer.Elapsed += GenericTimerCallback;\n",
    "        planTimer.Enabled = true;\n",
    "\n",
    "        this.planAction = planAction;\n",
    "        this.isRepeatedPlan = isRepeatedPlan;\n",
    "    }\n",
    "\n",
    "    public static ExecutionPlan Delay(int millisecondsDelay, Action<ExecutionPlan> planAction)\n",
    "    {\n",
    "        return new ExecutionPlan(millisecondsDelay, planAction, false);\n",
    "    }\n",
    "\n",
    "    public static ExecutionPlan Repeat(int millisecondsInterval, Action<ExecutionPlan> planAction)\n",
    "    {\n",
    "        return new ExecutionPlan(millisecondsInterval, planAction, true);\n",
    "    }\n",
    "\n",
    "    private void GenericTimerCallback(object sender, System.Timers.ElapsedEventArgs e)\n",
    "    {\n",
    "        planAction(this);\n",
    "        if (!isRepeatedPlan)\n",
    "        {\n",
    "            Abort();\n",
    "        }\n",
    "    }\n",
    "\n",
    "    public void Abort()\n",
    "    {\n",
    "        planTimer.Enabled = false;\n",
    "        planTimer.Elapsed -= GenericTimerCallback;\n",
    "    }\n",
    "\n",
    "    public void Dispose()\n",
    "    {\n",
    "        if (planTimer != null)\n",
    "        {\n",
    "            Abort();\n",
    "            planTimer.Dispose();\n",
    "            planTimer = null;\n",
    "        }\n",
    "        else\n",
    "        {\n",
    "            throw new ObjectDisposedException(typeof(ExecutionPlan).Name);\n",
    "        }\n",
    "    }\n",
    "}\n",
    "\n",
    "//\tvar timer1 = new System.Timers.Timer(1000);\n",
    "//\ttimer1.Elapsed += (sender, e) => {\n",
    "//\t\t\"Test\".Dump(); ((System.Timers.Timer)sender).Enabled = false;\n",
    "//\t};\n",
    "//\ttimer1.Enabled = true;\n",
    "\n",
    "\tvar action = new Action<ExecutionPlan>((o) => {\n",
    "\t\tConsole.WriteLine($\"Test { DateTime.Now.ToString() }\");\n",
    "\t\t//o.Abort();\n",
    "\t});\n",
    "\n",
    "\tvar plan = ExecutionPlan.Repeat(1000, action);\n",
    "\t\n",
    "\t// Thread.Sleep(TimeSpan.FromMinutes(1));\n",
    "\n",
    "  Task.Delay(10000).Wait();\n",
    "  //await Task.Delay(10000);"
   ]
  },
  {
   "cell_type": "code",
   "execution_count": 3,
   "metadata": {
    "dotnet_interactive": {
     "language": "csharp"
    },
    "polyglot_notebook": {
     "kernelName": "csharp"
    },
    "vscode": {
     "languageId": "polyglot-notebook"
    }
   },
   "outputs": [
    {
     "name": "stdout",
     "output_type": "stream",
     "text": [
      "1\n",
      "2\n"
     ]
    }
   ],
   "source": [
    "\tvar dict = new Dictionary<string, Func<int, int>>();\n",
    "\t\n",
    "\tFunc<int, int> A = (int n) => {\n",
    "\t\treturn n;\n",
    "\t};\n",
    "\t\n",
    "\tdict.Add(\"Name\", new Func<int, int>(A));\n",
    "\tdict.Add(\"Address\", new Func<int, int>((int a) => {\n",
    "\t\treturn a;\n",
    "\t}));\n",
    "\t\n",
    "\tvar nameDel = dict[\"Name\"];\n",
    "\tvar addressDel = dict[\"Address\"];\n",
    "\t\n",
    "\n",
    "\tConsole.WriteLine(nameDel(1));\n",
    "\tConsole.WriteLine(addressDel(2));\n",
    "  "
   ]
  },
  {
   "cell_type": "code",
   "execution_count": 16,
   "metadata": {
    "dotnet_interactive": {
     "language": "csharp"
    },
    "polyglot_notebook": {
     "kernelName": "csharp"
    },
    "vscode": {
     "languageId": "polyglot-notebook"
    }
   },
   "outputs": [
    {
     "name": "stdout",
     "output_type": "stream",
     "text": [
      "{ Id = 1, Name = Apples, Price = 3.3 }\n",
      "{ Id = 2, Name = Oranges, Price = 5.2 }\n",
      "{ Id = 5, Name = Pineapples, Price = 3.25 }\n"
     ]
    }
   ],
   "source": [
    "  // dynamic createObject(int id, string name, double price) {\n",
    "\t// \treturn new \n",
    "  //   {\n",
    "\t//     Id = id,\n",
    "\t//     Name = name,\n",
    "\t// \t   Price = price\n",
    "  //   };\n",
    "\t// }\n",
    "\n",
    "  Func<int, string, double, dynamic> CreateObject = (int id, string name, double price) => {\n",
    "\t\treturn new \n",
    "    {\n",
    "\t    Id = id,\n",
    "\t    Name = name,\n",
    "\t\t  Price = price\n",
    "    };\n",
    "  };\n",
    "\n",
    "\n",
    "\tvar list = new List<dynamic>(); \n",
    "\n",
    "\tlist.Add(CreateObject(1, \"Apples\", 3.3));\n",
    "\tlist.Add(CreateObject(2, \"Oranges\", 5.2));\n",
    "\tlist.Add(CreateObject(3, \"Bananas\", 1.0 ));\n",
    "\tlist.Add(CreateObject(4, \"Kiwis\", 9.0));\n",
    "\tlist.Add(CreateObject(5, \"Pineapples\", 3.25));\n",
    "\t\n",
    "\t// get first 2\n",
    "  var firstTwo = list.Take(2).ToArray();\n",
    "\tConsole.WriteLine(firstTwo[0]);\n",
    "\tConsole.WriteLine(firstTwo[1]);\n",
    "\t\n",
    "\t// query\n",
    "\tConsole.WriteLine(list.FirstOrDefault(o => o.Id == 5));"
   ]
  }
 ],
 "metadata": {
  "language_info": {
   "name": "python"
  }
 },
 "nbformat": 4,
 "nbformat_minor": 2
}

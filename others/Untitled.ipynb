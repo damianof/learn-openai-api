{
 "cells": [
  {
   "cell_type": "code",
   "execution_count": 2,
   "id": "b116a970-848f-4576-a01a-8d9524abe206",
   "metadata": {},
   "outputs": [
    {
     "name": "stdout",
     "output_type": "stream",
     "text": [
      "This is a message\n"
     ]
    }
   ],
   "source": [
    "msg = 'This is a message'\n",
    "print(msg)"
   ]
  },
  {
   "cell_type": "code",
   "execution_count": 3,
   "id": "b03c91ee-b8db-4039-aefb-d2992466f178",
   "metadata": {},
   "outputs": [
    {
     "name": "stdout",
     "output_type": "stream",
     "text": [
      "This is a message\n"
     ]
    }
   ],
   "source": [
    "msg = 'This is a message'\n",
    "print(msg)"
   ]
  },
  {
   "cell_type": "code",
   "execution_count": 4,
   "id": "9634ba5b-cddd-4049-b19a-93f40a8c02b1",
   "metadata": {},
   "outputs": [
    {
     "name": "stdout",
     "output_type": "stream",
     "text": [
      "Toyota\n",
      "Ford\n",
      "Honda\n"
     ]
    }
   ],
   "source": [
    "cars = ['Toyota', 'Ford', 'Honda']\n",
    "for x in cars:\n",
    "  print(x)"
   ]
  },
  {
   "cell_type": "code",
   "execution_count": 5,
   "id": "904537f2-799f-45f7-839e-236b67092e20",
   "metadata": {},
   "outputs": [
    {
     "data": {
      "text/plain": [
       "3"
      ]
     },
     "execution_count": 5,
     "metadata": {},
     "output_type": "execute_result"
    }
   ],
   "source": [
    "len(cars)\n"
   ]
  },
  {
   "cell_type": "code",
   "execution_count": 6,
   "id": "d83eb5ab-9c6c-481b-8108-977e451b6f25",
   "metadata": {},
   "outputs": [
    {
     "name": "stdout",
     "output_type": "stream",
     "text": [
      "['Toyota', 'Honda']\n",
      "Ford\n"
     ]
    }
   ],
   "source": [
    "onecar = cars.pop(1)\n",
    "print(cars)\n",
    "print(onecar)"
   ]
  },
  {
   "cell_type": "code",
   "execution_count": 7,
   "id": "603cd4cb-3f81-4aff-999d-6ac6a23d09c6",
   "metadata": {},
   "outputs": [
    {
     "name": "stdout",
     "output_type": "stream",
     "text": [
      "Hello from a function\n",
      "Hello from a function2\n"
     ]
    }
   ],
   "source": [
    "stuff = [print(\"Hello from a function\"), print(\"Hello from a function2\")]\n"
   ]
  },
  {
   "cell_type": "code",
   "execution_count": 8,
   "id": "10a65012-a2a2-4bf7-beba-209449fbac77",
   "metadata": {},
   "outputs": [],
   "source": [
    "stuff[0]\n"
   ]
  },
  {
   "cell_type": "code",
   "execution_count": 11,
   "id": "68e2a5dc-3ecb-46b6-a128-ec536c51ea58",
   "metadata": {},
   "outputs": [],
   "source": [
    "stuff[0]"
   ]
  },
  {
   "cell_type": "code",
   "execution_count": null,
   "id": "61146836-08b4-4ba9-badd-24bc8d75e320",
   "metadata": {},
   "outputs": [],
   "source": []
  }
 ],
 "metadata": {
  "kernelspec": {
   "display_name": "Python 3 (ipykernel)",
   "language": "python",
   "name": "python3"
  },
  "language_info": {
   "codemirror_mode": {
    "name": "ipython",
    "version": 3
   },
   "file_extension": ".py",
   "mimetype": "text/x-python",
   "name": "python",
   "nbconvert_exporter": "python",
   "pygments_lexer": "ipython3",
   "version": "3.11.4"
  }
 },
 "nbformat": 4,
 "nbformat_minor": 5
}

{
 "cells": [
  {
   "cell_type": "code",
   "execution_count": null,
   "id": "24e7c3d9-d126-4265-a2f6-5ff7d0ac7a52",
   "metadata": {},
   "outputs": [],
   "source": [
    "from transformers import pipeline, T5ForConditionalGeneration, T5Tokenizer\n",
    "\n",
    "# Load the pre-trained model and tokenizer\n",
    "model_name = \"t5-base\"\n",
    "model = T5ForConditionalGeneration.from_pretrained(model_name)\n",
    "tokenizer = T5Tokenizer.from_pretrained(model_name)\n",
    "\n",
    "# Create the summarization pipeline using the loaded model and tokenizer\n",
    "summarizer = pipeline(\"summarization\", model=model, tokenizer=tokenizer)\n",
    "\n",
    "# Rest of the code remains the same\n",
    "text = \"\"\"\n",
    "    The Apollo program was a series of space missions conducted by NASA\n",
    "    during the 1960s and early 1970s. The goal was to send a human to\n",
    "    the Moon and bring them safely back to Earth. Apollo 11 was the\n",
    "    first mission to achieve this feat, with astronauts Neil Armstrong,\n",
    "    Buzz Aldrin, and Michael Collins. Armstrong and Aldrin became the\n",
    "    first and second individuals to walk on the Moon, respectively.\n",
    "    The program included a total of 17 missions, with six missions\n",
    "    successfully landing humans on the Moon.\n",
    "\"\"\"\n",
    "\n",
    "summary = summarizer(text, max_length=100, min_length=30, do_sample=False)\n",
    "print(summary[0][\"summary_text\"])\n"
   ]
  },
  {
   "cell_type": "code",
   "execution_count": null,
   "id": "5fee848b-da09-4373-bc85-635e7d7c5964",
   "metadata": {},
   "outputs": [],
   "source": []
  },
  {
   "cell_type": "code",
   "execution_count": null,
   "id": "94eadbaa-0dc6-441a-b568-732ad6d336f4",
   "metadata": {},
   "outputs": [],
   "source": []
  }
 ],
 "metadata": {
  "kernelspec": {
   "display_name": "Python 3 (ipykernel)",
   "language": "python",
   "name": "python3"
  },
  "language_info": {
   "codemirror_mode": {
    "name": "ipython",
    "version": 3
   },
   "file_extension": ".py",
   "mimetype": "text/x-python",
   "name": "python",
   "nbconvert_exporter": "python",
   "pygments_lexer": "ipython3",
   "version": "3.11.4"
  }
 },
 "nbformat": 4,
 "nbformat_minor": 5
}

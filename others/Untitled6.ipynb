{
 "cells": [
  {
   "cell_type": "code",
   "execution_count": 6,
   "id": "acd8a00f-65c1-492c-b260-24387cfc76cd",
   "metadata": {},
   "outputs": [],
   "source": [
    "from my_module import getOpenAi\n",
    "openai = getOpenAi()"
   ]
  },
  {
   "cell_type": "code",
   "execution_count": 7,
   "id": "291c6017-f5d0-482e-bd34-888c44511235",
   "metadata": {},
   "outputs": [
    {
     "name": "stdout",
     "output_type": "stream",
     "text": [
      "CSV file converted to HTML successfully.\n"
     ]
    }
   ],
   "source": [
    "import pandas as pd\n",
    "\n",
    "# Read the CSV file into a pandas DataFrame\n",
    "data = pd.read_csv('data/Category Feedback - Final 7-14-23 -1.xlsx - Category.csv')\n",
    "\n",
    "# Convert DataFrame to HTML\n",
    "html = data.to_html()\n",
    "\n",
    "# Save the HTML to a file\n",
    "with open('data/Category.output.html', 'w') as file:\n",
    "    file.write(html)\n",
    "\n",
    "print(\"CSV file converted to HTML successfully.\")"
   ]
  },
  {
   "cell_type": "code",
   "execution_count": null,
   "id": "2ea52b8c-cf0b-4486-b056-4bd006d38b6f",
   "metadata": {},
   "outputs": [],
   "source": []
  }
 ],
 "metadata": {
  "kernelspec": {
   "display_name": "Python 3 (ipykernel)",
   "language": "python",
   "name": "python3"
  },
  "language_info": {
   "codemirror_mode": {
    "name": "ipython",
    "version": 3
   },
   "file_extension": ".py",
   "mimetype": "text/x-python",
   "name": "python",
   "nbconvert_exporter": "python",
   "pygments_lexer": "ipython3",
   "version": "3.11.4"
  }
 },
 "nbformat": 4,
 "nbformat_minor": 5
}

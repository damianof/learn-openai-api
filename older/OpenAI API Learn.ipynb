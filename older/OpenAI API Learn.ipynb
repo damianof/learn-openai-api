{
 "cells": [
  {
   "cell_type": "code",
   "execution_count": 1,
   "id": "a12d469a-d2f2-4844-af49-b3f4a37df30c",
   "metadata": {},
   "outputs": [
    {
     "name": "stdout",
     "output_type": "stream",
     "text": [
      "/Library/Frameworks/Python.framework/Versions/3.11/Resources/Python.app/Contents/MacOS/Python: can't open file '/Users/damiano/OutOfTheCage/open-ai-learn/pip3': [Errno 2] No such file or directory\n"
     ]
    }
   ],
   "source": [
    "from my_module import getOpenAi\n",
    "openai = getOpenAi()"
   ]
  },
  {
   "cell_type": "code",
   "execution_count": 2,
   "id": "f5ec20a4-ed65-4a58-bebf-b1834b9fed55",
   "metadata": {},
   "outputs": [],
   "source": [
    "import json\n",
    "\n",
    "def get_completion(prompt, model=\"gpt-3.5-turbo\"):\n",
    "    messages = [{\"role\": \"user\", \"content\": prompt}]\n",
    "    response = openai.ChatCompletion.create(\n",
    "        model=model,\n",
    "        messages=messages,\n",
    "        temperature=0.5, # this is the degree of randomness\n",
    "    )\n",
    "    return response['choices'][0]['message']['content']\n",
    "\n",
    "\n",
    "def get_completion_json(prompt, model=\"gpt-3.5-turbo\"):\n",
    "    messages = [{\"role\": \"user\", \"content\": prompt}]\n",
    "    response = openai.ChatCompletion.create(\n",
    "        model=model,\n",
    "        messages=messages,\n",
    "        temperature=0.5, # this is the degree of randomness\n",
    "    )\n",
    "    # parse the response string into JSON\n",
    "    json_response = json.loads(response['choices'][0]['message']['content'])\n",
    "    return json_response"
   ]
  },
  {
   "cell_type": "code",
   "execution_count": 3,
   "id": "1df7fb20-84cb-44df-825c-ba9d526f5063",
   "metadata": {},
   "outputs": [
    {
     "name": "stdout",
     "output_type": "stream",
     "text": [
      "{'books': [{'book_id': 1, 'title': 'The Whispering Shadows', 'author': 'Evelyn Blackwood', 'genre': 'Mystery'}, {'book_id': 2, 'title': 'The Enchanted Chronicle', 'author': 'Lucinda Evergreen', 'genre': 'Fantasy'}, {'book_id': 3, 'title': 'The Silent Symphony', 'author': 'Victor Nightshade', 'genre': 'Thriller'}]}\n"
     ]
    }
   ],
   "source": [
    "prompt = f\"\"\"\n",
    "Generate a list of three made-up book titles along \\\n",
    "with their authors and genres. \n",
    "Provide them in JSON format with the followng keys: \n",
    "book_id, title, author, genre.\n",
    "\"\"\"\n",
    "response = get_completion_json(prompt)\n",
    "print(response)"
   ]
  },
  {
   "cell_type": "code",
   "execution_count": 4,
   "id": "bff6f824-1fff-4ce7-bfdb-ae20ce36aa3b",
   "metadata": {},
   "outputs": [
    {
     "name": "stdout",
     "output_type": "stream",
     "text": [
      "To guide the model towards the desired output and reduce the chances of irrelevant or incorrect responses, it is important to provide clear and specific instructions that are as detailed and lengthy as possible.\n"
     ]
    }
   ],
   "source": [
    "text = f\"\"\"\n",
    "You should express what you want a model to do by \\\n",
    "providing instructions that are as clear and specific as yu can possibly \\\n",
    "make them. \\\n",
    "This will guide the model towards the desired output, \\\n",
    "and reduce the changes of receiving irrelevant \\\n",
    "or incorrect responses. Don't confuse writing a \\\n",
    "clear prompt with writing a short prompt. \\\n",
    "In many cases, longer prompts provide more clarity \\\n",
    "and context for the model, which can lead to \\\n",
    "more detailed and relevant outputs.\n",
    "\"\"\"\n",
    "prompt = f\"\"\"\n",
    "Summarize the text delimited by triple backticks \\\n",
    "into a single sentence.\n",
    "```{text}```\n",
    "\"\"\"\n",
    "response = get_completion(prompt)\n",
    "print(response)"
   ]
  },
  {
   "cell_type": "code",
   "execution_count": 5,
   "id": "002f4390-931e-4cff-a9d3-a3937bbe7f10",
   "metadata": {},
   "outputs": [
    {
     "name": "stdout",
     "output_type": "stream",
     "text": [
      "Completion for Text 1:\n",
      "Step 1 - Get some water boiling.\n",
      "Step 2 - Grab a cup and put a tea bag in it.\n",
      "Step 3 - Pour the hot water over the tea bag.\n",
      "Step 4 - Let the tea steep for a few minutes.\n",
      "Step 5 - Take out the tea bag.\n",
      "Step 6 - Optional: Add sugar or milk to taste.\n",
      "Step 7 - Enjoy your cup of tea.\n"
     ]
    }
   ],
   "source": [
    "text_1 = f\"\"\"\n",
    "Making a cup of tea is easy! First, you need to get some water boiling. \\\n",
    "While that's happening, grab a cup and put a tea bag in it. Once the water \\\n",
    "is hot enough, just pour it over the tea bag. \\\n",
    "Let it site for a bit so the tea can steep. After a few minutes, \\\n",
    "take out the tea bag. If you like, you can add some sugar or milk to taste. \\\n",
    "And that's it! You've got yourself a delicious \\\n",
    "cup of tea to enjoy.\n",
    "\"\"\"\n",
    "prompt = f\"\"\"\n",
    "You will be provided with text delimited by triple quotes.\n",
    "If it contains a sequence of instructions, \\\n",
    "re-write those instructions in the following format:\n",
    "\n",
    "Step 1 - ...\n",
    "Step 2 - ...\n",
    "...\n",
    "Step N - ...\n",
    "\n",
    "If the text does not contain a sequence of instructions, \\\n",
    "then simply write \\\"No steps provided.\\\"\n",
    "\n",
    "\\\"\\\"\\\"{text_1}\\\"\\\"\\\"\n",
    "\"\"\"\n",
    "response = get_completion(prompt)\n",
    "print(\"Completion for Text 1:\")\n",
    "print(response)"
   ]
  },
  {
   "cell_type": "code",
   "execution_count": 6,
   "id": "ebcbad11-0912-458d-ac49-076a032ae3fd",
   "metadata": {},
   "outputs": [
    {
     "name": "stdout",
     "output_type": "stream",
     "text": [
      "<grandparent>: Resilience is like a mighty oak tree that withstands the strongest winds and storms. It is the ability to bounce back from adversity, to rise above challenges, and to keep going even when faced with obstacles. Just as a tree grows stronger with every storm it weathers, resilience is nurtured through perseverance and a steadfast belief in oneself.\n"
     ]
    }
   ],
   "source": [
    "prompt = f\"\"\"\n",
    "Your task is to answer in a consistent style.\n",
    "\n",
    "<child>: Teach me about patience.\n",
    "\n",
    "<grandparent>: The river that carves the deepest \\\n",
    "valley flows from a modest spring; the \\\n",
    "grandest symphony originates from a single note; \\\n",
    "the most intricate tapestry begins with a solitary thread.\n",
    "\n",
    "<child>: Teach me about resilience.\n",
    "\"\"\"\n",
    "response = get_completion(prompt)\n",
    "print(response)"
   ]
  },
  {
   "cell_type": "code",
   "execution_count": 7,
   "id": "7b48edb2-6448-4777-9327-b746b532901d",
   "metadata": {},
   "outputs": [],
   "source": [
    "fact_sheet_chair = \"\"\"\n",
    "OVERVIEW\n",
    "- Part of a beautiful family of mid-century inspired office furniture, \n",
    "including filing cabinets, desks, bookcases, meeting tables, and more.\n",
    "- Several options of shell color and base finishes.\n",
    "- Available with plastic back and front upholstery (SWC-100) \n",
    "or full upholstery (SWC-110) in 10 fabric and 6 leather options.\n",
    "- Base finish options are: stainless steel, matte black, \n",
    "gloss white, or chrome.\n",
    "- Chair is available with or without armrests.\n",
    "- Suitable for home or business settings.\n",
    "- Qualified for contract use.\n",
    "\n",
    "CONSTRUCTION\n",
    "- 5-wheel plastic coated aluminum base.\n",
    "- Pneumatic chair adjust for easy raise/lower action.\n",
    "\n",
    "DIMENSIONS\n",
    "- WIDTH 53 CM | 20.87”\n",
    "- DEPTH 51 CM | 20.08”\n",
    "- HEIGHT 80 CM | 31.50”\n",
    "- SEAT HEIGHT 44 CM | 17.32”\n",
    "- SEAT DEPTH 41 CM | 16.14”\n",
    "\n",
    "OPTIONS\n",
    "- Soft or hard-floor caster options.\n",
    "- Two choices of seat foam densities: \n",
    " medium (1.8 lb/ft3) or high (2.8 lb/ft3)\n",
    "- Armless or 8 position PU armrests \n",
    "\n",
    "MATERIALS\n",
    "SHELL BASE GLIDER\n",
    "- Cast Aluminum with modified nylon PA6/PA66 coating.\n",
    "- Shell thickness: 10 mm.\n",
    "SEAT\n",
    "- HD36 foam\n",
    "\n",
    "COUNTRY OF ORIGIN\n",
    "- Italy\n",
    "\"\"\""
   ]
  },
  {
   "cell_type": "code",
   "execution_count": 8,
   "id": "00fbd98b-6b8a-4292-bd39-c710f2c048bf",
   "metadata": {},
   "outputs": [
    {
     "name": "stdout",
     "output_type": "stream",
     "text": [
      "Introducing our stunning mid-century inspired office chair, the perfect addition to any home or business setting. This chair is part of a beautiful family of office furniture, including filing cabinets, desks, bookcases, meeting tables, and more. \n",
      "\n",
      "With several options for shell color and base finishes, you can customize this chair to perfectly match your style and decor. Choose between plastic back and front upholstery (SWC-100) or full upholstery (SWC-110) in a range of 10 fabric and 6 leather options. The base finish options include stainless steel, matte black, gloss white, or chrome. \n",
      "\n",
      "The chair is available with or without armrests, giving you the flexibility to choose the design that suits your preference. \n",
      "\n",
      "Constructed with a 5-wheel plastic coated aluminum base, this chair offers both stability and mobility. The pneumatic chair adjust allows for easy raise and lower action, ensuring optimal comfort throughout your workday. \n",
      "\n",
      "The dimensions of this chair are as follows: \n",
      "- Width: 53 cm | 20.87\"\n",
      "- Depth: 51 cm | 20.08\"\n",
      "- Height: 80 cm | 31.50\"\n",
      "- Seat Height: 44 cm | 17.32\"\n",
      "- Seat Depth: 41 cm | 16.14\"\n",
      "\n",
      "We offer various options to further personalize your chair. Choose between soft or hard-floor caster options to suit your specific flooring needs. Additionally, you have the choice of two seat foam densities: medium (1.8 lb/ft3) or high (2.8 lb/ft3). \n",
      "\n",
      "The chair is designed with your comfort in mind. You can opt for armless or 8 position PU armrests, providing you with the support you need during long hours of work. \n",
      "\n",
      "The materials used in the construction of this chair are of the highest quality. The shell base glider is made of cast aluminum with a modified nylon PA6/PA66 coating, ensuring durability and longevity. The shell thickness is 10 mm, further enhancing the sturdiness of the chair. The seat is made of HD36 foam, offering superior comfort and support. \n",
      "\n",
      "Rest assured that this chair is not only stylish and comfortable but also of the highest quality. It is qualified for contract use, making it suitable for commercial settings as well. \n",
      "\n",
      "Experience the elegance and functionality of our mid-century inspired office chair, proudly made in Italy. Upgrade your workspace with this exceptional piece of furniture today.\n"
     ]
    }
   ],
   "source": [
    "prompt = f\"\"\"\n",
    "Your task is to help a marketing team create a \n",
    "description for a retail website of a product based \n",
    "on a technical fact sheet.\n",
    "\n",
    "Write a product description based on the information \n",
    "provided in the technical specifications delimited by \n",
    "triple backticks.\n",
    "\n",
    "Technical specifications: ```{fact_sheet_chair}```\n",
    "\"\"\"\n",
    "response = get_completion(prompt)\n",
    "print(response)\n"
   ]
  }
 ],
 "metadata": {
  "kernelspec": {
   "display_name": "Python 3 (ipykernel)",
   "language": "python",
   "name": "python3"
  },
  "language_info": {
   "codemirror_mode": {
    "name": "ipython",
    "version": 3
   },
   "file_extension": ".py",
   "mimetype": "text/x-python",
   "name": "python",
   "nbconvert_exporter": "python",
   "pygments_lexer": "ipython3",
   "version": "3.11.4"
  }
 },
 "nbformat": 4,
 "nbformat_minor": 5
}
